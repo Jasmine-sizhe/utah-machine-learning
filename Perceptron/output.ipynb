{
 "cells": [
  {
   "cell_type": "code",
   "execution_count": 22,
   "metadata": {},
   "outputs": [],
   "source": [
    "from perceptron import *\n",
    "# Take in file name return a dictionary\n",
    "def readFiles(CSVfile):\n",
    "    attributeData = []\n",
    "    attributeLength = 0\n",
    "    with open(CSVfile, 'r') as f:\n",
    "        for line in f:\n",
    "            terms = line.strip().split(',')\n",
    "            attributeData.append(terms)\n",
    "            attributeLength = len(terms) - 1\n",
    "\n",
    "    return attributeData, attributeLength"
   ]
  },
  {
   "cell_type": "code",
   "execution_count": 23,
   "metadata": {},
   "outputs": [],
   "source": [
    "TrainAttributeData, TrainNumAttribute = readFiles(\"Data/train.csv\")\n",
    "TestAttributeData, TestNumAttribute = readFiles(\"Data/test.csv\")"
   ]
  },
  {
   "cell_type": "code",
   "execution_count": 29,
   "metadata": {},
   "outputs": [],
   "source": [
    "perceptronModel = Perceptron(TrainAttributeData, TestAttributeData, TrainNumAttribute)"
   ]
  },
  {
   "cell_type": "code",
   "execution_count": 36,
   "metadata": {},
   "outputs": [
    {
     "name": "stdout",
     "output_type": "stream",
     "text": [
      "Epoch  0  w:  [-12.274  -7.945  -8.397  -2.34   10.8  ]  Train Error:  0.011  Test Error:  0.014\n",
      "Epoch  1  w:  [-12.595  -7.032  -9.223  -2.733  11.4  ]  Train Error:  0.018  Test Error:  0.022\n",
      "Epoch  2  w:  [-13.107  -7.398  -9.014  -1.983  11.2  ]  Train Error:  0.011  Test Error:  0.012\n",
      "Epoch  3  w:  [-13.153  -7.768  -8.548  -1.786  12.   ]  Train Error:  0.011  Test Error:  0.012\n",
      "Epoch  4  w:  [-12.585  -8.003  -9.791  -2.467  12.   ]  Train Error:  0.011  Test Error:  0.02\n",
      "Epoch  5  w:  [-13.719  -8.354  -9.163  -1.595  11.8  ]  Train Error:  0.014  Test Error:  0.014\n",
      "Epoch  6  w:  [-13.414  -6.378 -10.297  -2.184  12.8  ]  Train Error:  0.055  Test Error:  0.066\n",
      "Epoch  7  w:  [-13.993  -6.52  -10.344  -1.613  13.2  ]  Train Error:  0.04  Test Error:  0.06\n",
      "Epoch  8  w:  [-13.003 -10.523  -9.418  -1.372  13.8  ]  Train Error:  0.019  Test Error:  0.016\n",
      "Epoch  9  w:  [-14.464 -10.258  -8.579  -1.821  13.6  ]  Train Error:  0.024  Test Error:  0.024\n"
     ]
    }
   ],
   "source": [
    "perceptronModel.runStandard()"
   ]
  },
  {
   "cell_type": "code",
   "execution_count": 38,
   "metadata": {},
   "outputs": [
    {
     "name": "stdout",
     "output_type": "stream",
     "text": [
      "Epoch  0  w:  [-6.527 -4.912 -3.38  -2.343  4.   ]  Train Error:  0.037  Test Error:  0.042\n",
      "Epoch  1  w:  [-8.671 -6.005 -4.247 -2.155  5.4  ]  Train Error:  0.034  Test Error:  0.046\n",
      "Epoch  2  w:  [-8.715 -6.506 -6.226 -0.236  6.4  ]  Train Error:  0.029  Test Error:  0.028\n",
      "Epoch  3  w:  [-10.713  -6.995  -5.863  -1.239   7.4  ]  Train Error:  0.032  Test Error:  0.03\n",
      "Epoch  4  w:  [-11.565  -5.847  -6.716  -2.933   8.6  ]  Train Error:  0.024  Test Error:  0.028\n",
      "Epoch  5  w:  [-11.57   -7.041  -8.781  -1.428   8.8  ]  Train Error:  0.019  Test Error:  0.02\n",
      "Epoch  6  w:  [-11.611  -6.753  -9.417  -1.91    9.2  ]  Train Error:  0.033  Test Error:  0.048\n",
      "Epoch  7  w:  [-12.739  -6.659  -9.279  -1.783   9.6  ]  Train Error:  0.019  Test Error:  0.024\n",
      "Epoch  8  w:  [-11.964  -7.725 -10.573  -1.496  10.4  ]  Train Error:  0.037  Test Error:  0.054\n",
      "Epoch  9  w:  [-12.741  -8.463  -8.492  -2.788  11.4  ]  Train Error:  0.015  Test Error:  0.014\n"
     ]
    }
   ],
   "source": [
    "perceptronModel.runVoted()"
   ]
  },
  {
   "cell_type": "code",
   "execution_count": 39,
   "metadata": {},
   "outputs": [
    {
     "name": "stdout",
     "output_type": "stream",
     "text": [
      "Epoch  0  w:  [-276.372 -170.45  -184.071  -48.899  241.4  ]  Train Error:  0.011  Test Error:  0.014\n",
      "Epoch  1  w:  [-478.631 -302.321 -316.147  -89.874  420.   ]  Train Error:  0.014  Test Error:  0.014\n",
      "Epoch  2  w:  [-736.25  -474.861 -490.152 -147.198  654.   ]  Train Error:  0.014  Test Error:  0.014\n",
      "Epoch  3  w:  [-1014.856  -657.901  -684.647  -196.95    909.6  ]  Train Error:  0.013  Test Error:  0.014\n",
      "Epoch  4  w:  [-1285.52   -838.353  -871.543  -244.162  1161.8  ]  Train Error:  0.011  Test Error:  0.014\n",
      "Epoch  5  w:  [-1533.965  -995.175 -1049.321  -280.301  1387.2  ]  Train Error:  0.011  Test Error:  0.014\n",
      "Epoch  6  w:  [-1723.096 -1117.824 -1192.728  -308.584  1564.4  ]  Train Error:  0.011  Test Error:  0.012\n",
      "Epoch  7  w:  [-2019.844 -1300.112 -1388.018  -347.142  1823.6  ]  Train Error:  0.011  Test Error:  0.012\n",
      "Epoch  8  w:  [-2296.875 -1478.469 -1584.011  -390.147  2079.4  ]  Train Error:  0.011  Test Error:  0.012\n",
      "Epoch  9  w:  [-2524.082 -1608.987 -1739.689  -424.811  2276.   ]  Train Error:  0.011  Test Error:  0.012\n"
     ]
    }
   ],
   "source": [
    "perceptronModel.runAverage()"
   ]
  }
 ],
 "metadata": {
  "kernelspec": {
   "display_name": "Python 3",
   "language": "python",
   "name": "python3"
  },
  "language_info": {
   "codemirror_mode": {
    "name": "ipython",
    "version": 3
   },
   "file_extension": ".py",
   "mimetype": "text/x-python",
   "name": "python",
   "nbconvert_exporter": "python",
   "pygments_lexer": "ipython3",
   "version": "3.11.6"
  }
 },
 "nbformat": 4,
 "nbformat_minor": 2
}
