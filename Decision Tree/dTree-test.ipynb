{
 "cells": [
  {
   "cell_type": "code",
   "execution_count": 1,
   "metadata": {},
   "outputs": [],
   "source": [
    "import pandas as pd\n",
    "import numpy as np\n",
    "import math"
   ]
  },
  {
   "cell_type": "code",
   "execution_count": 5,
   "metadata": {},
   "outputs": [
    {
     "name": "stdout",
     "output_type": "stream",
     "text": [
      "Depth of the root node: 2\n"
     ]
    }
   ],
   "source": [
    "class TreeNode:\n",
    "    def __init__(self, data, attributes=None):\n",
    "        self.data = data  # value of the node\n",
    "        self.attributes = attributes if attributes is not None else {}  # attributes in dict\n",
    "        self.children = []  # list of child nodes\n",
    "\n",
    "    def add_child(self, child_node):\n",
    "        self.children.append(child_node)\n",
    "\n",
    "def find_depth(node):\n",
    "    # Base case: If the node has no children, its depth is 0\n",
    "    if not node.children:\n",
    "        return 0\n",
    "    else:\n",
    "        # Find the depth of each child node recursively\n",
    "        child_depths = [find_depth(child) for child in node.children]\n",
    "        # Return the maximum depth among child nodes + 1 (for the current node)\n",
    "        return max(child_depths) + 1\n",
    "\n",
    "# Example usage:\n",
    "root = TreeNode(\"Root\")\n",
    "child1 = TreeNode(\"Child 1\")\n",
    "child2 = TreeNode(\"Child 2\")\n",
    "grandchild1 = TreeNode(\"Grandchild 1\")\n",
    "grandchild2 = TreeNode(\"Grandchild 2\")\n",
    "\n",
    "root.add_child(child1)\n",
    "root.add_child(child2)\n",
    "child1.add_child(grandchild1)\n",
    "child2.add_child(grandchild2)\n",
    "\n",
    "# Calculate the depth of the root node\n",
    "root_depth = find_depth(root)\n",
    "print(\"Depth of the root node:\", root_depth)  # Should print 2\n"
   ]
  },
  {
   "cell_type": "code",
   "execution_count": null,
   "metadata": {},
   "outputs": [],
   "source": []
  }
 ],
 "metadata": {
  "kernelspec": {
   "display_name": "base",
   "language": "python",
   "name": "python3"
  },
  "language_info": {
   "codemirror_mode": {
    "name": "ipython",
    "version": 3
   },
   "file_extension": ".py",
   "mimetype": "text/x-python",
   "name": "python",
   "nbconvert_exporter": "python",
   "pygments_lexer": "ipython3",
   "version": "3.8.3"
  },
  "orig_nbformat": 4
 },
 "nbformat": 4,
 "nbformat_minor": 2
}
